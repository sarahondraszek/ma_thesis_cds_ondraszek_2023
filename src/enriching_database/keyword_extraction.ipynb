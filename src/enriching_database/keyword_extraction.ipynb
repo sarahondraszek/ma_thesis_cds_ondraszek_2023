{
 "cells": [
  {
   "cell_type": "markdown",
   "source": [
    "[Inspo](https://medium.com/@ka.kaewnoparat/text-summarization-and-keyword-extraction-from-customer-reviews-in-french-part-3-3-172195f2816b)"
   ],
   "metadata": {
    "collapsed": false
   }
  },
  {
   "cell_type": "code",
   "execution_count": null,
   "outputs": [],
   "source": [
    "import spacy.cli\n",
    "\n",
    "spacy.cli.download(\"fr_core_news_md\")"
   ],
   "metadata": {
    "collapsed": false,
    "pycharm": {
     "is_executing": true
    }
   }
  },
  {
   "cell_type": "code",
   "execution_count": null,
   "outputs": [],
   "source": [
    "from pathlib import Path\n",
    "import glob\n",
    "\n",
    "import spacy\n",
    "import pandas as pd\n",
    "\n",
    "pd.options.mode.chained_assignment = None  # default='warn'\n",
    "from sklearn.feature_extraction.text import CountVectorizer\n",
    "from sentence_transformers import SentenceTransformer\n",
    "from sklearn.metrics.pairwise import cosine_similarity\n",
    "\n",
    "nlp = spacy.load(\"fr_core_news_md\")\n",
    "model = SentenceTransformer(\"dangvantuan/sentence-camembert-large\")"
   ],
   "metadata": {
    "collapsed": false,
    "pycharm": {
     "is_executing": true
    }
   }
  },
  {
   "cell_type": "code",
   "execution_count": 2,
   "outputs": [],
   "source": [
    "my_file = open(\"../../data/french_stopword.txt\", \"r\")\n",
    "data = my_file.read()\n",
    "my_file.close()\n",
    "french_stopwords_list = data.replace('\\n', ' ').split(\" \")\n",
    "french_stopwords_list.append(\"quelqu\")"
   ],
   "metadata": {
    "collapsed": false
   }
  },
  {
   "cell_type": "code",
   "execution_count": 3,
   "outputs": [],
   "source": [
    "def slice_only_noun_token(ner, token_list):\n",
    "    noun_slice_list = []\n",
    "    proper_noun_slice_list = []\n",
    "    for word_idx in range(len(token_list)):\n",
    "        doc = ner(token_list[word_idx])  # we loop through each token in the candidate list\n",
    "\n",
    "        for token in doc:  #then we check if each token falls into NOUN / PROPN parts of speech\n",
    "            if token.pos_ == 'NOUN':\n",
    "                noun_slice_list.append(token.text)\n",
    "            elif token.pos_ == 'PROPN':\n",
    "                proper_noun_slice_list.append(token.text)\n",
    "\n",
    "    return noun_slice_list, proper_noun_slice_list"
   ],
   "metadata": {
    "collapsed": false
   }
  },
  {
   "cell_type": "code",
   "execution_count": 4,
   "outputs": [],
   "source": [
    "def top_n_extractor(\n",
    "        model,\n",
    "        input_text,\n",
    "        noun_list,\n",
    "        top_n=3):\n",
    "    text_encoded = model.encode(input_text)\n",
    "    noun_candidate_list_encoded = model.encode(noun_list)\n",
    "    distances = cosine_similarity(text_encoded, noun_candidate_list_encoded)\n",
    "    keywords = [noun_list[index] for index in distances.argsort()[0][-top_n:]]\n",
    "\n",
    "    return keywords"
   ],
   "metadata": {
    "collapsed": false
   }
  },
  {
   "cell_type": "code",
   "execution_count": 6,
   "outputs": [],
   "source": [
    "df = pd.read_csv('../../data/filtered_cds_data.csv', sep=',')"
   ],
   "metadata": {
    "collapsed": false
   }
  },
  {
   "cell_type": "code",
   "execution_count": null,
   "outputs": [],
   "source": [
    "index = 0\n",
    "for url in df['URL']:\n",
    "    input_text = [df['Anfang des Briefes'][index]]\n",
    "    vectorizer = CountVectorizer(stop_words=french_stopwords_list).fit(input_text)\n",
    "    candidates = vectorizer.get_feature_names_out()\n",
    "\n",
    "    noun_list, proper_list = slice_only_noun_token(\n",
    "        ner=nlp,\n",
    "        token_list=candidates\n",
    "    )\n",
    "\n",
    "    text_encoded = model.encode(input_text)\n",
    "    noun_candidate_list_encoded = model.encode(noun_list)\n",
    "    if len(noun_candidate_list_encoded) == 0:\n",
    "        index += 1\n",
    "        continue\n",
    "    distances = cosine_similarity(text_encoded, noun_candidate_list_encoded)\n",
    "\n",
    "    df['keyword_list'][index] = top_n_extractor(model=model, input_text=input_text, noun_list=noun_list)\n",
    "    index += 1"
   ],
   "metadata": {
    "collapsed": false,
    "pycharm": {
     "is_executing": true
    }
   }
  },
  {
   "cell_type": "code",
   "execution_count": 38,
   "outputs": [],
   "source": [
    "df.to_csv('../../data/filtered_cds_data.csv')"
   ],
   "metadata": {
    "collapsed": false
   }
  }
 ],
 "metadata": {
  "kernelspec": {
   "display_name": "Python 3",
   "language": "python",
   "name": "python3"
  },
  "language_info": {
   "codemirror_mode": {
    "name": "ipython",
    "version": 2
   },
   "file_extension": ".py",
   "mimetype": "text/x-python",
   "name": "python",
   "nbconvert_exporter": "python",
   "pygments_lexer": "ipython2",
   "version": "2.7.6"
  }
 },
 "nbformat": 4,
 "nbformat_minor": 0
}
