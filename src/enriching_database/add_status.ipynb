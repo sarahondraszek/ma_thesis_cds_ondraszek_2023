{
 "cells": [
  {
   "cell_type": "code",
   "execution_count": 1,
   "metadata": {
    "collapsed": true
   },
   "outputs": [
    {
     "name": "stderr",
     "output_type": "stream",
     "text": [
      "* Owlready2 * Warning: optimized Cython parser module 'owlready2_optimized' is not available, defaulting to slower Python implementation\n"
     ]
    }
   ],
   "source": [
    "import pandas as pd\n",
    "from owlready2 import *"
   ]
  },
  {
   "cell_type": "code",
   "execution_count": 2,
   "outputs": [],
   "source": [
    "# READ FROM DOC\n",
    "df = pd.read_csv('../../data/filtered_cds_data.csv', sep=',')\n",
    "onto = get_ontology(\"../../data/ontology_extended/cds-ontology_final-version_v3.owl\").load()\n",
    "\n",
    "cds = Namespace(\n",
    "    world_or_ontology=onto,\n",
    "    base_iri=\"https://constance-de-salm.de/ontology#\",\n",
    "    name=\"cds\",\n",
    ")"
   ],
   "metadata": {
    "collapsed": false
   }
  },
  {
   "cell_type": "code",
   "execution_count": 4,
   "outputs": [],
   "source": [
    "\n",
    "index = 0\n",
    "for url in df['URL']:\n",
    "    status = df['Vorlage'][index]\n",
    "    if status == 'Abschrift':\n",
    "        for i in onto.Letter.instances():\n",
    "            if i.iri == url:\n",
    "                i.has_template_status.append('Abschrift')\n",
    "    else:\n",
    "         for i in onto.Letter.instances():\n",
    "            if i.iri == url:\n",
    "                i.has_template_status.append('Original')\n",
    "    index += 1\n"
   ],
   "metadata": {
    "collapsed": false
   }
  },
  {
   "cell_type": "code",
   "execution_count": 5,
   "outputs": [],
   "source": [
    "onto.save(file=\"../../data/ontology_extended/cds-ontology_final-version_v4.owl\", format=\"rdfxml\")"
   ],
   "metadata": {
    "collapsed": false
   }
  },
  {
   "cell_type": "code",
   "execution_count": null,
   "outputs": [],
   "source": [],
   "metadata": {
    "collapsed": false
   }
  }
 ],
 "metadata": {
  "kernelspec": {
   "display_name": "Python 3",
   "language": "python",
   "name": "python3"
  },
  "language_info": {
   "codemirror_mode": {
    "name": "ipython",
    "version": 2
   },
   "file_extension": ".py",
   "mimetype": "text/x-python",
   "name": "python",
   "nbconvert_exporter": "python",
   "pygments_lexer": "ipython2",
   "version": "2.7.6"
  }
 },
 "nbformat": 4,
 "nbformat_minor": 0
}
