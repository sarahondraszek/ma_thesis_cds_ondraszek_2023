{
 "cells": [
  {
   "cell_type": "code",
   "execution_count": 11,
   "metadata": {
    "collapsed": true
   },
   "outputs": [],
   "source": [
    "import ast\n",
    "\n",
    "import pandas as pd\n",
    "from owlready2 import *"
   ]
  },
  {
   "cell_type": "code",
   "execution_count": 16,
   "outputs": [],
   "source": [
    "onto = get_ontology(\"../../data/ontology_extended/cds-ontology_final-version_v5_new-iris.owl\").load()\n",
    "\n",
    "wv = Namespace(\n",
    "    world_or_ontology=onto,\n",
    "    base_iri=\"https://wissen-vernetzen.github.io/ontology.html#\",\n",
    "    name=\"wv\",\n",
    ")"
   ],
   "metadata": {
    "collapsed": false
   }
  },
  {
   "cell_type": "code",
   "execution_count": 17,
   "outputs": [],
   "source": [
    "df = pd.read_csv(\"../../data/filtered_cds_data.csv\")"
   ],
   "metadata": {
    "collapsed": false
   }
  },
  {
   "cell_type": "code",
   "execution_count": 19,
   "outputs": [
    {
     "name": "stdout",
     "output_type": "stream",
     "text": [
      "https://wissen-vernetzen.github.io/ontology.html#neutral\n",
      "https://wissen-vernetzen.github.io/ontology.html#neutral\n",
      "https://wissen-vernetzen.github.io/ontology.html#positive\n",
      "https://wissen-vernetzen.github.io/ontology.html#negative\n",
      "https://wissen-vernetzen.github.io/ontology.html#positive\n",
      "https://wissen-vernetzen.github.io/ontology.html#neutral\n",
      "https://wissen-vernetzen.github.io/ontology.html#neutral\n",
      "https://wissen-vernetzen.github.io/ontology.html#positive\n",
      "https://wissen-vernetzen.github.io/ontology.html#neutral\n"
     ]
    }
   ],
   "source": [
    "for letter in onto.Letter.instances():\n",
    "    # ADDING SENTIMENT\n",
    "    sentiment = df.loc[df['URL'] == letter.iri, 'sentiment'].item()\n",
    "\n",
    "    if not sentiment == '0':\n",
    "        for sentiment_instance in onto.Sentiment.instances():\n",
    "            if sentiment_instance.iri.replace('https://wissen-vernetzen.github.io/ontology.html#', '') == sentiment:\n",
    "                letter.has_sentiment.append(sentiment_instance)\n",
    "\n",
    "    # ADDING KEYWORD\n",
    "    keywords = df.loc[df['URL'] == letter.iri, 'keywords_full-letter'].item()\n",
    "    if not keywords == '0':\n",
    "        new_keywords = []\n",
    "        for keyword in ast.literal_eval(keywords):\n",
    "            keyword_id = ''.join(e for e in keyword if e.isalnum())\n",
    "            if keyword_id not in onto.Automatic_Keyword.instances():\n",
    "                new_keyword = onto.Automatic_Keyword(keyword_id, namespace=wv)\n",
    "                new_keyword.label = keyword\n",
    "                new_keywords.append(new_keyword)\n",
    "            else:\n",
    "                for keyword_instance in onto.Automatic_Keyword.instances():\n",
    "                    if keyword_instance.iri.replace('https://wissen-vernetzen.github.io/ontology.html#', '') == keyword_id:\n",
    "                        new_keywords.append(keyword_instance)\n",
    "\n",
    "        for keyword in new_keywords:\n",
    "            letter.has_automatic_keyword.append(keyword)"
   ],
   "metadata": {
    "collapsed": false
   }
  },
  {
   "cell_type": "code",
   "execution_count": 20,
   "outputs": [],
   "source": [
    "onto.save(file = \"../../data/ontology_extended/why.owl\", format = \"rdfxml\")"
   ],
   "metadata": {
    "collapsed": false
   }
  },
  {
   "cell_type": "code",
   "execution_count": null,
   "outputs": [],
   "source": [],
   "metadata": {
    "collapsed": false
   }
  }
 ],
 "metadata": {
  "kernelspec": {
   "display_name": "Python 3",
   "language": "python",
   "name": "python3"
  },
  "language_info": {
   "codemirror_mode": {
    "name": "ipython",
    "version": 2
   },
   "file_extension": ".py",
   "mimetype": "text/x-python",
   "name": "python",
   "nbconvert_exporter": "python",
   "pygments_lexer": "ipython2",
   "version": "2.7.6"
  }
 },
 "nbformat": 4,
 "nbformat_minor": 0
}
