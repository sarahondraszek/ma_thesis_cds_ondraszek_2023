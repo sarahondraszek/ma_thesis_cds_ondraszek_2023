{
 "cells": [
  {
   "cell_type": "code",
   "execution_count": 1,
   "outputs": [],
   "source": [
    "import glob\n",
    "import re\n",
    "from pathlib import Path\n",
    "\n",
    "import pandas as pd\n",
    "from textblob import TextBlob\n",
    "from transformers import pipeline"
   ],
   "metadata": {
    "collapsed": false
   }
  },
  {
   "cell_type": "code",
   "execution_count": null,
   "outputs": [],
   "source": [
    "analyzer = pipeline(\n",
    "    task='text-classification',\n",
    "    model=\"cmarkea/distilcamembert-base-sentiment\",\n",
    "    tokenizer=\"cmarkea/distilcamembert-base-sentiment\"\n",
    ")"
   ],
   "metadata": {
    "collapsed": false
   }
  },
  {
   "cell_type": "code",
   "execution_count": 4,
   "outputs": [],
   "source": [
    "df = pd.read_csv('../../data/filtered_cds_data.csv', sep=',')"
   ],
   "metadata": {
    "collapsed": false
   }
  },
  {
   "cell_type": "code",
   "execution_count": 4,
   "outputs": [],
   "source": [
    "# DOC FOR FIRST LINES\n",
    "df['first-line_sentiment'] = 0"
   ],
   "metadata": {
    "collapsed": false
   }
  },
  {
   "cell_type": "code",
   "execution_count": 6,
   "outputs": [],
   "source": [
    "# DOC FOR ENTIRE LETTERS\n",
    "df['sentiment'] = 0"
   ],
   "metadata": {
    "collapsed": false
   }
  },
  {
   "cell_type": "code",
   "execution_count": 6,
   "outputs": [],
   "source": [
    "index = 0\n",
    "for url in df['URL']:\n",
    "    if df['first-line_sentiment'][index] == 0:\n",
    "        result = analyzer(\n",
    "            df['Anfang des Briefes'][index]\n",
    "        )\n",
    "        df['first-line_sentiment'][index] = result[0]['label']\n",
    "    index += 1"
   ],
   "metadata": {
    "collapsed": false
   }
  },
  {
   "cell_type": "code",
   "execution_count": 28,
   "outputs": [],
   "source": [
    "index = 0\n",
    "for file in glob.glob('../../data/transcriptions/*-cleaned.txt'):\n",
    "    with open(file, 'r') as f:\n",
    "        pattern = r'[^a-zA-Z0-9\\s]'  # Match any character that is not a letter, digit, or whitespace\n",
    "        cleaned_text = re.sub(pattern, '', f.read())\n",
    "        blob = TextBlob(cleaned_text)\n",
    "        sentiment = blob.sentiment.polarity\n",
    "        if (\n",
    "                (df['URL'] == f'https://constance-de-salm.de/archiv/#/document/{Path(file).stem.replace(\"-cleaned\", \"\")}')\n",
    "                &\n",
    "                (df['sentiment'] == 0)\n",
    "        ).any():\n",
    "\n",
    "            if sentiment > 0:\n",
    "                df.loc[df[\n",
    "                           'URL'] == f'https://constance-de-salm.de/archiv/#/document/{Path(file).stem.replace(\"-cleaned\", \"\")}',\n",
    "                       'sentiment'] = 'positive'\n",
    "            elif sentiment < 0:\n",
    "                df.loc[df[\n",
    "                           'URL'] == f'https://constance-de-salm.de/archiv/#/document/{Path(file).stem.replace(\"-cleaned\", \"\")}',\n",
    "                       'sentiment'] = 'negative'\n",
    "            else:\n",
    "                df.loc[df[\n",
    "                           'URL'] == f'https://constance-de-salm.de/archiv/#/document/{Path(file).stem.replace(\"-cleaned\", \"\")}',\n",
    "                       'sentiment'] = 'neutral'\n"
   ],
   "metadata": {
    "collapsed": false
   }
  },
  {
   "cell_type": "code",
   "execution_count": 31,
   "outputs": [],
   "source": [
    "df.to_csv('../../data/filtered_cds_data.csv')"
   ],
   "metadata": {
    "collapsed": false
   }
  }
 ],
 "metadata": {
  "kernelspec": {
   "display_name": "Python 3",
   "language": "python",
   "name": "python3"
  },
  "language_info": {
   "codemirror_mode": {
    "name": "ipython",
    "version": 2
   },
   "file_extension": ".py",
   "mimetype": "text/x-python",
   "name": "python",
   "nbconvert_exporter": "python",
   "pygments_lexer": "ipython2",
   "version": "2.7.6"
  }
 },
 "nbformat": 4,
 "nbformat_minor": 0
}
