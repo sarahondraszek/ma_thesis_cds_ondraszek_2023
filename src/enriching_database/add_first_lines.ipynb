{
 "cells": [
  {
   "cell_type": "markdown",
   "source": [
    "# JupyterNotebook for adding first lines to the letters"
   ],
   "metadata": {
    "collapsed": false
   }
  },
  {
   "cell_type": "code",
   "execution_count": 9,
   "outputs": [],
   "source": [
    "import pandas as pd\n",
    "from owlready2 import *"
   ],
   "metadata": {
    "collapsed": false
   }
  },
  {
   "cell_type": "code",
   "execution_count": 10,
   "outputs": [],
   "source": [
    "# READ FIRST LINES FROM DOC\n",
    "df = pd.read_csv('../../data/filtered_cds_data.csv', sep=';')"
   ],
   "metadata": {
    "collapsed": false
   }
  },
  {
   "cell_type": "code",
   "execution_count": 11,
   "outputs": [],
   "source": [
    "onto = get_ontology(\"../../data/ontology_extended/cds-ontology_final-version.owl\").load()\n",
    "\n",
    "cds = Namespace(\n",
    "    world_or_ontology=onto,\n",
    "    base_iri=\"https://constance-de-salm.de/ontology#\",\n",
    "    name=\"cds\",\n",
    ")"
   ],
   "metadata": {
    "collapsed": false
   }
  },
  {
   "cell_type": "code",
   "execution_count": null,
   "outputs": [],
   "source": [
    "index = 0\n",
    "for url in df['URL']:\n",
    "    first_line_id = \"fl_\" + url.replace('https://constance-de-salm.de/archiv/#/document/', '')\n",
    "    # print(url, df['Anfang des Briefes'][index], first_line_id)\n",
    "    new_first_line = onto.First_Line(first_line_id, namespace=cds)\n",
    "    new_first_line.comment = df['Anfang des Briefes'][index]\n",
    "    for i in onto.Letter.instances():\n",
    "        if i.iri == url:\n",
    "            i.has_first_line.append(new_first_line)\n",
    "    index += 1\n",
    "\n",
    "\n",
    "#df.loc[df['URL'] == \"https://constance-de-salm.de/archiv/#/document/28\"]['Unnamed: 0']"
   ],
   "metadata": {
    "collapsed": false,
    "pycharm": {
     "is_executing": true
    }
   }
  },
  {
   "cell_type": "code",
   "execution_count": 13,
   "outputs": [],
   "source": [
    "onto.save(file = \"../../data/ontology_extended/cds-ontology_final-version_v2.owl\", format = \"rdfxml\")"
   ],
   "metadata": {
    "collapsed": false
   }
  }
 ],
 "metadata": {
  "kernelspec": {
   "display_name": "Python 3",
   "language": "python",
   "name": "python3"
  },
  "language_info": {
   "codemirror_mode": {
    "name": "ipython",
    "version": 2
   },
   "file_extension": ".py",
   "mimetype": "text/x-python",
   "name": "python",
   "nbconvert_exporter": "python",
   "pygments_lexer": "ipython2",
   "version": "2.7.6"
  }
 },
 "nbformat": 4,
 "nbformat_minor": 0
}
