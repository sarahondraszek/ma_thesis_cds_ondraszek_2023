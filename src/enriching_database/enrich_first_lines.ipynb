{
 "cells": [
  {
   "cell_type": "code",
   "execution_count": 97,
   "metadata": {
    "collapsed": true
   },
   "outputs": [],
   "source": [
    "import pandas as pd\n",
    "from owlready2 import *\n",
    "import ast"
   ]
  },
  {
   "cell_type": "code",
   "execution_count": 98,
   "outputs": [],
   "source": [
    "# READ FIRST LINES FROM DOC\n",
    "df = pd.read_csv('../../data/filtered_cds_data.csv', sep=',')"
   ],
   "metadata": {
    "collapsed": false
   }
  },
  {
   "cell_type": "code",
   "execution_count": null,
   "outputs": [],
   "source": [
    "df"
   ],
   "metadata": {
    "collapsed": false,
    "pycharm": {
     "is_executing": true
    }
   }
  },
  {
   "cell_type": "code",
   "execution_count": 100,
   "outputs": [],
   "source": [
    "onto = get_ontology(\"../../data/ontology_extended/cds-ontology_final-version_v2.owl\").load()\n",
    "\n",
    "cds = Namespace(\n",
    "    world_or_ontology=onto,\n",
    "    base_iri=\"https://constance-de-salm.de/ontology#\",\n",
    "    name=\"cds\",\n",
    ")"
   ],
   "metadata": {
    "collapsed": false
   }
  },
  {
   "cell_type": "code",
   "execution_count": 101,
   "outputs": [],
   "source": [
    "index = 0\n",
    "for url in df['URL']:\n",
    "    keywords = df['keyword_list'][index]\n",
    "    if not keywords == '0':\n",
    "        new_keywords = []\n",
    "        for keyword in ast.literal_eval(keywords):\n",
    "            keyword_id = ''.join(e for e in keyword if e.isalnum())\n",
    "            if keyword_id not in onto.Automatic_Keyword.instances():\n",
    "                new_keyword = onto.Automatic_Keyword(keyword_id, namespace=cds)\n",
    "                new_keyword.label = keyword\n",
    "                new_keywords.append(new_keyword)\n",
    "            else:\n",
    "                for keyword_instance in onto.Automatic_Keyword.instances():\n",
    "                    if keyword_instance.iri.replace('https://constance-de-salm.de/ontology#', '') == keyword_id:\n",
    "                        new_keywords.append(keyword_instance)\n",
    "\n",
    "\n",
    "        for i in onto.First_Line.instances():\n",
    "            fl_id = i.iri.replace('https://constance-de-salm.de/ontology#fl_', '')\n",
    "            if str(fl_id) == str(url.replace('https://constance-de-salm.de/archiv/#/document/', '')):\n",
    "                for keyword in new_keywords:\n",
    "                    i.has_automatic_keyword.append(keyword)\n",
    "\n",
    "    index += 1"
   ],
   "metadata": {
    "collapsed": false
   }
  },
  {
   "cell_type": "code",
   "execution_count": 102,
   "outputs": [],
   "source": [
    "onto.save(file = \"../../data/ontology_extended/cds-ontology_final-version_v3.owl\", format = \"rdfxml\")"
   ],
   "metadata": {
    "collapsed": false
   }
  },
  {
   "cell_type": "code",
   "execution_count": null,
   "outputs": [],
   "source": [],
   "metadata": {
    "collapsed": false
   }
  }
 ],
 "metadata": {
  "kernelspec": {
   "display_name": "Python 3",
   "language": "python",
   "name": "python3"
  },
  "language_info": {
   "codemirror_mode": {
    "name": "ipython",
    "version": 2
   },
   "file_extension": ".py",
   "mimetype": "text/x-python",
   "name": "python",
   "nbconvert_exporter": "python",
   "pygments_lexer": "ipython2",
   "version": "2.7.6"
  }
 },
 "nbformat": 4,
 "nbformat_minor": 0
}
