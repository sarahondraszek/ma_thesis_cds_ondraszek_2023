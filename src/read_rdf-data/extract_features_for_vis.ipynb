{
 "cells": [
  {
   "cell_type": "code",
   "execution_count": 66,
   "metadata": {
    "collapsed": true
   },
   "outputs": [],
   "source": [
    "from rdflib import Graph\n",
    "from rdflib import URIRef\n",
    "from rdflib import Namespace\n",
    "from rdflib.namespace import RDF, FOAF, RDFS\n",
    "import json"
   ]
  },
  {
   "cell_type": "code",
   "execution_count": 53,
   "outputs": [],
   "source": [
    "GEONAMES = Namespace(\"https://www.geonames.org/ontology#\")\n",
    "WGS8 =\tNamespace(\"http://www.w3.org/2003/01/geo/wgs84_pos#\")\n",
    "CDS = Namespace(\"https://constance-de-salm.de/ontology#\")\n",
    "WGS8 =\tNamespace(\"http://www.w3.org/2003/01/geo/wgs84_pos#\")\n",
    "WIKIDATA = Namespace(\"https://www.wikidata.org/wiki/\")"
   ],
   "metadata": {
    "collapsed": false
   }
  },
  {
   "cell_type": "code",
   "execution_count": 54,
   "outputs": [
    {
     "data": {
      "text/plain": "<Graph identifier=N93a4eecd4d224805b6e8f6d2b88f72c8 (<class 'rdflib.graph.Graph'>)>"
     },
     "execution_count": 54,
     "metadata": {},
     "output_type": "execute_result"
    }
   ],
   "source": [
    "g = Graph()\n",
    "g.parse(\"../../data/ontology_extended/cds-ontology_final-version.owl\")"
   ],
   "metadata": {
    "collapsed": false
   }
  },
  {
   "cell_type": "code",
   "execution_count": 55,
   "outputs": [],
   "source": [
    "g.bind(\"foaf\", FOAF)  # bind an RDFLib-provided namespace to a prefix\n",
    "g.bind(\"gn\", GEONAMES)\n",
    "g.bind(\"wgs8\", WGS8)\n",
    "g.bind(\"cds\", CDS)"
   ],
   "metadata": {
    "collapsed": false
   }
  },
  {
   "cell_type": "code",
   "execution_count": 78,
   "outputs": [],
   "source": [
    "# find all subjects (s) of type (rdf:type) Feature\n",
    "map_data = []\n",
    "for s, p, o in g.triples((None, RDF.type, GEONAMES.Feature)):\n",
    "    count_feature = 0\n",
    "    for a, b, c in g.triples((None, RDF.type, CDS.Letter)):\n",
    "        if str(g.value(a, CDS.has_place_of_exposition)) == str(s):\n",
    "            count_feature += 1\n",
    "\n",
    "    feature_info = {\n",
    "        \"title\": str(g.value(s, RDFS.label)),\n",
    "        \"latitude\": float(g.value(s, WGS8.lat)),\n",
    "        \"longitude\": float(g.value(s, WGS8.long)),\n",
    "        \"width\": 50,\n",
    "        \"height\": 50,\n",
    "        \"value\": count_feature\n",
    "    }\n",
    "    map_data.append(feature_info)"
   ],
   "metadata": {
    "collapsed": false
   }
  },
  {
   "cell_type": "code",
   "execution_count": 79,
   "outputs": [],
   "source": [
    "parsed = json.loads(str(map_data).replace(\"'\", '\"'))\n",
    "json_string = json.dumps(parsed, ensure_ascii=False)\n",
    "with open('../../data/visualisation_bases/places_visualisation.json', 'w') as f:\n",
    "    f.write(json_string)"
   ],
   "metadata": {
    "collapsed": false
   }
  },
  {
   "cell_type": "code",
   "execution_count": null,
   "outputs": [],
   "source": [],
   "metadata": {
    "collapsed": false
   }
  }
 ],
 "metadata": {
  "kernelspec": {
   "display_name": "Python 3",
   "language": "python",
   "name": "python3"
  },
  "language_info": {
   "codemirror_mode": {
    "name": "ipython",
    "version": 2
   },
   "file_extension": ".py",
   "mimetype": "text/x-python",
   "name": "python",
   "nbconvert_exporter": "python",
   "pygments_lexer": "ipython2",
   "version": "2.7.6"
  }
 },
 "nbformat": 4,
 "nbformat_minor": 0
}
